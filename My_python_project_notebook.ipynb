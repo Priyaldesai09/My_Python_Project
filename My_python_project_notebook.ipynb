{
 "cells": [
  {
   "cell_type": "code",
   "execution_count": 2,
   "id": "fc71d9f3",
   "metadata": {},
   "outputs": [
    {
     "name": "stdout",
     "output_type": "stream",
     "text": [
      "C:\\Users\\priya\\My_python_project\n"
     ]
    }
   ],
   "source": [
    "from pathlib import Path\n",
    "print(Path.cwd())\n"
   ]
  },
  {
   "cell_type": "code",
   "execution_count": 3,
   "id": "b6599f98",
   "metadata": {},
   "outputs": [
    {
     "name": "stdout",
     "output_type": "stream",
     "text": [
      "['.git', '.ipynb_checkpoints', 'My_python_project_notebook.ipynb']\n"
     ]
    }
   ],
   "source": [
    "import os\n",
    "print(os.listdir())\n"
   ]
  },
  {
   "cell_type": "code",
   "execution_count": 4,
   "id": "a8b6c18a",
   "metadata": {},
   "outputs": [
    {
     "name": "stdout",
     "output_type": "stream",
     "text": [
      "C:\\Users\\priya\\My_python_project\\My_python_project_notebook\n"
     ]
    }
   ],
   "source": [
    "import os\n",
    "print(os.path.abspath(\"My_python_project_notebook\"))  # Get full path of the file\n"
   ]
  },
  {
   "cell_type": "code",
   "execution_count": 5,
   "id": "4b4cee73",
   "metadata": {},
   "outputs": [],
   "source": [
    "import pandas as pd\n",
    "import numpy as np\n",
    "import matplotlib.pyplot as plt\n",
    "import math\n",
    "from statsmodels.tsa.stattools import acf, pacf, adfuller\n",
    "from statsmodels.tsa.seasonal import seasonal_decompose\n",
    "from sklearn.metrics import mean_squared_error, mean_absolute_error, explained_variance_score, r2_score\n",
    "from sklearn.preprocessing import MinMaxScaler\n",
    "from statsmodels.tsa.arima.model import ARIMA\n",
    "import seaborn as sns"
   ]
  },
  {
   "cell_type": "markdown",
   "id": "2eb386dc",
   "metadata": {},
   "source": [
    "# Introduction"
   ]
  },
  {
   "cell_type": "markdown",
   "id": "eb314623",
   "metadata": {},
   "source": [
    "## Analysis of four Types of Crypto-Currencies\n",
    "\n",
    "## 1) Bitcoin\n",
    "## 2) Dogecoin\n",
    "## 3) Cardano\n",
    "## 4) Ethereum"
   ]
  },
  {
   "cell_type": "markdown",
   "id": "8e815a9c",
   "metadata": {},
   "source": [
    "## Variable Explanation\n",
    "## Date - The specific date for data entry\n",
    "## Open - The price of Crypto Currency at the beginning of the trading day (Bitcoin started trading at the beginning)\n",
    "## High - This is the maximum price reached by Crypto Currency during the trading day\n",
    "## Low - This is the minimum price reached by Crypto Currency during the trading day\n",
    "## Close - This is the price at which Crypto Currency was traded at the end of the trading day.\n",
    "## Adj Close - This is the closing price after making adjustments for any actions like splits or dividends. For Crypto Currency, it doesn't have any dividends and splits, so the adjusted close might often be the same as the close price.¶\n",
    "## Volume - This represents the total units that were added throughout the day"
   ]
  },
  {
   "cell_type": "code",
   "execution_count": 10,
   "id": "5960b49f",
   "metadata": {},
   "outputs": [],
   "source": [
    "df_bt = pd.read_excel(r\"C:\\Users\\priya\\OneDrive\\Documents\\Time Series Forecasting Crypto Currency\\BTC-USD.xlsx\")\n"
   ]
  },
  {
   "cell_type": "code",
   "execution_count": 11,
   "id": "dc1b6e15",
   "metadata": {},
   "outputs": [
    {
     "data": {
      "text/html": [
       "<div>\n",
       "<style scoped>\n",
       "    .dataframe tbody tr th:only-of-type {\n",
       "        vertical-align: middle;\n",
       "    }\n",
       "\n",
       "    .dataframe tbody tr th {\n",
       "        vertical-align: top;\n",
       "    }\n",
       "\n",
       "    .dataframe thead th {\n",
       "        text-align: right;\n",
       "    }\n",
       "</style>\n",
       "<table border=\"1\" class=\"dataframe\">\n",
       "  <thead>\n",
       "    <tr style=\"text-align: right;\">\n",
       "      <th></th>\n",
       "      <th>Date</th>\n",
       "      <th>Open</th>\n",
       "      <th>High</th>\n",
       "      <th>Low</th>\n",
       "      <th>Close</th>\n",
       "      <th>Adj Close</th>\n",
       "      <th>Volume</th>\n",
       "    </tr>\n",
       "  </thead>\n",
       "  <tbody>\n",
       "    <tr>\n",
       "      <th>0</th>\n",
       "      <td>2015-09-13</td>\n",
       "      <td>235.242004</td>\n",
       "      <td>235.934998</td>\n",
       "      <td>229.332001</td>\n",
       "      <td>230.511993</td>\n",
       "      <td>230.511993</td>\n",
       "      <td>1.847880e+07</td>\n",
       "    </tr>\n",
       "    <tr>\n",
       "      <th>1</th>\n",
       "      <td>2015-09-14</td>\n",
       "      <td>230.608994</td>\n",
       "      <td>232.440002</td>\n",
       "      <td>227.960999</td>\n",
       "      <td>230.643997</td>\n",
       "      <td>230.643997</td>\n",
       "      <td>2.099780e+07</td>\n",
       "    </tr>\n",
       "    <tr>\n",
       "      <th>2</th>\n",
       "      <td>2015-09-15</td>\n",
       "      <td>230.492004</td>\n",
       "      <td>259.182007</td>\n",
       "      <td>229.822006</td>\n",
       "      <td>230.304001</td>\n",
       "      <td>230.304001</td>\n",
       "      <td>1.917780e+07</td>\n",
       "    </tr>\n",
       "    <tr>\n",
       "      <th>3</th>\n",
       "      <td>2015-09-16</td>\n",
       "      <td>230.250000</td>\n",
       "      <td>231.214996</td>\n",
       "      <td>227.401993</td>\n",
       "      <td>229.091003</td>\n",
       "      <td>229.091003</td>\n",
       "      <td>2.014420e+07</td>\n",
       "    </tr>\n",
       "    <tr>\n",
       "      <th>4</th>\n",
       "      <td>2015-09-17</td>\n",
       "      <td>229.076004</td>\n",
       "      <td>230.285004</td>\n",
       "      <td>228.925995</td>\n",
       "      <td>229.809998</td>\n",
       "      <td>229.809998</td>\n",
       "      <td>1.893540e+07</td>\n",
       "    </tr>\n",
       "    <tr>\n",
       "      <th>...</th>\n",
       "      <td>...</td>\n",
       "      <td>...</td>\n",
       "      <td>...</td>\n",
       "      <td>...</td>\n",
       "      <td>...</td>\n",
       "      <td>...</td>\n",
       "      <td>...</td>\n",
       "    </tr>\n",
       "    <tr>\n",
       "      <th>2188</th>\n",
       "      <td>2021-09-09</td>\n",
       "      <td>45774.742188</td>\n",
       "      <td>47261.949219</td>\n",
       "      <td>45669.738281</td>\n",
       "      <td>46391.421875</td>\n",
       "      <td>46391.421875</td>\n",
       "      <td>3.867266e+10</td>\n",
       "    </tr>\n",
       "    <tr>\n",
       "      <th>2189</th>\n",
       "      <td>2021-09-10</td>\n",
       "      <td>46396.664063</td>\n",
       "      <td>47031.742188</td>\n",
       "      <td>44344.484375</td>\n",
       "      <td>44883.910156</td>\n",
       "      <td>44883.910156</td>\n",
       "      <td>3.915467e+10</td>\n",
       "    </tr>\n",
       "    <tr>\n",
       "      <th>2190</th>\n",
       "      <td>2021-09-11</td>\n",
       "      <td>44869.839844</td>\n",
       "      <td>45969.292969</td>\n",
       "      <td>44818.265625</td>\n",
       "      <td>45201.457031</td>\n",
       "      <td>45201.457031</td>\n",
       "      <td>3.449984e+10</td>\n",
       "    </tr>\n",
       "    <tr>\n",
       "      <th>2191</th>\n",
       "      <td>2021-09-12</td>\n",
       "      <td>45206.628906</td>\n",
       "      <td>46364.878906</td>\n",
       "      <td>44790.460938</td>\n",
       "      <td>46063.269531</td>\n",
       "      <td>46063.269531</td>\n",
       "      <td>2.788198e+10</td>\n",
       "    </tr>\n",
       "    <tr>\n",
       "      <th>2192</th>\n",
       "      <td>2021-09-13</td>\n",
       "      <td>46114.171875</td>\n",
       "      <td>46234.527344</td>\n",
       "      <td>44268.375000</td>\n",
       "      <td>44743.929688</td>\n",
       "      <td>44743.929688</td>\n",
       "      <td>3.184200e+10</td>\n",
       "    </tr>\n",
       "  </tbody>\n",
       "</table>\n",
       "<p>2193 rows × 7 columns</p>\n",
       "</div>"
      ],
      "text/plain": [
       "           Date          Open          High           Low         Close  \\\n",
       "0    2015-09-13    235.242004    235.934998    229.332001    230.511993   \n",
       "1    2015-09-14    230.608994    232.440002    227.960999    230.643997   \n",
       "2    2015-09-15    230.492004    259.182007    229.822006    230.304001   \n",
       "3    2015-09-16    230.250000    231.214996    227.401993    229.091003   \n",
       "4    2015-09-17    229.076004    230.285004    228.925995    229.809998   \n",
       "...         ...           ...           ...           ...           ...   \n",
       "2188 2021-09-09  45774.742188  47261.949219  45669.738281  46391.421875   \n",
       "2189 2021-09-10  46396.664063  47031.742188  44344.484375  44883.910156   \n",
       "2190 2021-09-11  44869.839844  45969.292969  44818.265625  45201.457031   \n",
       "2191 2021-09-12  45206.628906  46364.878906  44790.460938  46063.269531   \n",
       "2192 2021-09-13  46114.171875  46234.527344  44268.375000  44743.929688   \n",
       "\n",
       "         Adj Close        Volume  \n",
       "0       230.511993  1.847880e+07  \n",
       "1       230.643997  2.099780e+07  \n",
       "2       230.304001  1.917780e+07  \n",
       "3       229.091003  2.014420e+07  \n",
       "4       229.809998  1.893540e+07  \n",
       "...            ...           ...  \n",
       "2188  46391.421875  3.867266e+10  \n",
       "2189  44883.910156  3.915467e+10  \n",
       "2190  45201.457031  3.449984e+10  \n",
       "2191  46063.269531  2.788198e+10  \n",
       "2192  44743.929688  3.184200e+10  \n",
       "\n",
       "[2193 rows x 7 columns]"
      ]
     },
     "execution_count": 11,
     "metadata": {},
     "output_type": "execute_result"
    }
   ],
   "source": [
    "df_bt"
   ]
  },
  {
   "cell_type": "code",
   "execution_count": null,
   "id": "a62f2be1",
   "metadata": {},
   "outputs": [],
   "source": []
  }
 ],
 "metadata": {
  "kernelspec": {
   "display_name": "Python 3 (ipykernel)",
   "language": "python",
   "name": "python3"
  },
  "language_info": {
   "codemirror_mode": {
    "name": "ipython",
    "version": 3
   },
   "file_extension": ".py",
   "mimetype": "text/x-python",
   "name": "python",
   "nbconvert_exporter": "python",
   "pygments_lexer": "ipython3",
   "version": "3.11.5"
  }
 },
 "nbformat": 4,
 "nbformat_minor": 5
}
