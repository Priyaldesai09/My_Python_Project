{
 "cells": [
  {
   "cell_type": "code",
   "execution_count": 3,
   "id": "01ffc9f0",
   "metadata": {},
   "outputs": [],
   "source": [
    "import pandas as pd\n",
    "import numpy as np"
   ]
  },
  {
   "cell_type": "code",
   "execution_count": 4,
   "id": "fc71d9f3",
   "metadata": {},
   "outputs": [
    {
     "name": "stdout",
     "output_type": "stream",
     "text": [
      "C:\\Users\\priya\n"
     ]
    }
   ],
   "source": [
    "from pathlib import Path\n",
    "print(Path.cwd())  # Get the current working directory\n"
   ]
  },
  {
   "cell_type": "code",
   "execution_count": 6,
   "id": "b6599f98",
   "metadata": {},
   "outputs": [
    {
     "name": "stdout",
     "output_type": "stream",
     "text": [
      "['.anaconda', '.conda', '.condarc', '.continuum', '.gitconfig', '.ipynb_checkpoints', '.ipython', '.jupyter', '.lesshst', '.matplotlib', '.vscode', 'Addepar_Prep.ipynb', 'anaconda3', 'AppData', 'Application Data', 'bitcoin_price_data.xlsx', 'Contacts', 'Cookies', 'Crypto - Currency Time Series Forecasting.ipynb', 'Documents', 'Downloads', 'Favorites', 'Links', 'Local Settings', 'Microsoft', 'Music', 'My Documents', 'My_python_project_notebook.ipynb', 'NetHood', 'NTUSER.DAT', 'ntuser.dat.LOG1', 'ntuser.dat.LOG2', 'NTUSER.DAT{7c9984d9-14e3-11ee-8dbb-f46d3fac738e}.TM.blf', 'NTUSER.DAT{7c9984d9-14e3-11ee-8dbb-f46d3fac738e}.TMContainer00000000000000000001.regtrans-ms', 'NTUSER.DAT{7c9984d9-14e3-11ee-8dbb-f46d3fac738e}.TMContainer00000000000000000002.regtrans-ms', 'ntuser.ini', 'OneDrive', 'PrintHood', 'Python Interview Preparation for Data Analyst.ipynb', 'Recent', 'Saved Games', 'Searches', 'SendTo', 'Start Menu', 'Templates', 'Time_Series_Forecasting.ipynb', 'Untitled.ipynb', 'Untitled1.ipynb', 'Untitled2.ipynb', 'Videos']\n"
     ]
    }
   ],
   "source": [
    "import os\n",
    "print(os.listdir())  # List files and folders in the current directory\n"
   ]
  },
  {
   "cell_type": "code",
   "execution_count": 9,
   "id": "a8b6c18a",
   "metadata": {},
   "outputs": [
    {
     "name": "stdout",
     "output_type": "stream",
     "text": [
      "C:\\Users\\priya\\My_python_project_notebook\n"
     ]
    }
   ],
   "source": [
    "import os\n",
    "print(os.path.abspath(\"My_python_project_notebook\"))  # Get full path of the file\n"
   ]
  },
  {
   "cell_type": "code",
   "execution_count": null,
   "id": "4b4cee73",
   "metadata": {},
   "outputs": [],
   "source": []
  }
 ],
 "metadata": {
  "kernelspec": {
   "display_name": "Python 3 (ipykernel)",
   "language": "python",
   "name": "python3"
  },
  "language_info": {
   "codemirror_mode": {
    "name": "ipython",
    "version": 3
   },
   "file_extension": ".py",
   "mimetype": "text/x-python",
   "name": "python",
   "nbconvert_exporter": "python",
   "pygments_lexer": "ipython3",
   "version": "3.11.5"
  }
 },
 "nbformat": 4,
 "nbformat_minor": 5
}
